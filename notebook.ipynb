{
 "cells": [
  {
   "cell_type": "code",
   "execution_count": 4,
   "id": "303c4d0e-a7ec-4856-a2ee-a47dd4cf55d4",
   "metadata": {},
   "outputs": [],
   "source": [
    "import json\n",
    "\n",
    "f = open('thinresults.json')\n",
    "\n",
    "data = json.load(f)\n",
    "\n",
    "f.close()"
   ]
  },
  {
   "cell_type": "code",
   "execution_count": 5,
   "id": "97d73ca4-fc50-4098-b483-b87c17bd649a",
   "metadata": {},
   "outputs": [
    {
     "name": "stdout",
     "output_type": "stream",
     "text": [
      "dict_keys(['name', 'ons', 'gvId', 'previousIsNotional', 'byElectionYear', 'declarationTime', 'expectedAt', 'sittingParty', 'winningParty', 'majority', 'percentageMajority', 'percentageTurnout', 'candidates'])\n"
     ]
    }
   ],
   "source": [
    "print(data[0].keys())"
   ]
  },
  {
   "cell_type": "code",
   "execution_count": 55,
   "id": "b1768619-c7ec-4ab5-bcbe-264b32469617",
   "metadata": {},
   "outputs": [],
   "source": [
    "constituencyKeys = ('name', 'sittingParty', 'winningParty')"
   ]
  },
  {
   "cell_type": "code",
   "execution_count": 56,
   "id": "97393fef-f662-436a-91f8-8cc11ebfce4c",
   "metadata": {},
   "outputs": [
    {
     "name": "stdout",
     "output_type": "stream",
     "text": [
      "dict_keys(['party', 'partyFull', 'surname', 'fullname', 'votes', 'percentageShare', 'roundedPercentageShare', 'previousPercentageShare', 'previousRoundedPercentageShare', 'percentageShareChange'])\n"
     ]
    }
   ],
   "source": [
    "print(data[0]['candidates'][0].keys())"
   ]
  },
  {
   "cell_type": "code",
   "execution_count": 57,
   "id": "48ea0d5a-2425-4b8a-9448-1cbb4a6956d8",
   "metadata": {},
   "outputs": [
    {
     "name": "stdout",
     "output_type": "stream",
     "text": [
      "{'party': 'lab', 'partyFull': 'Labour', 'surname': 'Kinnock', 'fullname': 'Stephen Kinnock', 'votes': 17838, 'percentageShare': 49.89, 'roundedPercentageShare': 49.9, 'previousPercentageShare': 52.92, 'previousRoundedPercentageShare': 52.9, 'percentageShareChange': -3.030000000000001}\n"
     ]
    }
   ],
   "source": [
    "print(data[0]['candidates'][0])"
   ]
  },
  {
   "cell_type": "code",
   "execution_count": 64,
   "id": "c2389c82-854c-46a0-af15-c9710af425e7",
   "metadata": {},
   "outputs": [],
   "source": [
    "candidateKeys = ('votes')"
   ]
  },
  {
   "cell_type": "code",
   "execution_count": 65,
   "id": "c97f7227-4eb9-4be9-a74b-54ef78be96a6",
   "metadata": {},
   "outputs": [],
   "source": [
    "newParty = 'lab+green'"
   ]
  },
  {
   "cell_type": "code",
   "execution_count": 66,
   "id": "3ff46b2b-6784-4495-bcb4-b5ae67e884c5",
   "metadata": {},
   "outputs": [
    {
     "ename": "KeyError",
     "evalue": "'v'",
     "output_type": "error",
     "traceback": [
      "\u001b[0;31m---------------------------------------------------------------------------\u001b[0m",
      "\u001b[0;31mKeyError\u001b[0m                                  Traceback (most recent call last)",
      "Cell \u001b[0;32mIn[66], line 13\u001b[0m\n\u001b[1;32m     10\u001b[0m \u001b[38;5;66;03m# they are sorted by votes in the original document but it is better to be sure\u001b[39;00m\n\u001b[1;32m     11\u001b[0m winningCandidate \u001b[38;5;241m=\u001b[39m \u001b[38;5;28mmax\u001b[39m(candidates, key\u001b[38;5;241m=\u001b[39m\u001b[38;5;28;01mlambda\u001b[39;00m x: x[\u001b[38;5;124m'\u001b[39m\u001b[38;5;124mvotes\u001b[39m\u001b[38;5;124m'\u001b[39m])  \n\u001b[0;32m---> 13\u001b[0m [flattenedItem\u001b[38;5;241m.\u001b[39mappend(winningCandidate[key]) \u001b[38;5;28;01mfor\u001b[39;00m key \u001b[38;5;129;01min\u001b[39;00m candidateKeys]\n\u001b[1;32m     15\u001b[0m combinedVotes \u001b[38;5;241m=\u001b[39m \u001b[38;5;28msum\u001b[39m([candidate[\u001b[38;5;124m'\u001b[39m\u001b[38;5;124mvotes\u001b[39m\u001b[38;5;124m'\u001b[39m] \u001b[38;5;28;01mfor\u001b[39;00m candidate \u001b[38;5;129;01min\u001b[39;00m candidates \u001b[38;5;28;01mif\u001b[39;00m candidate[\u001b[38;5;124m'\u001b[39m\u001b[38;5;124mparty\u001b[39m\u001b[38;5;124m'\u001b[39m] \u001b[38;5;129;01min\u001b[39;00m (\u001b[38;5;124m'\u001b[39m\u001b[38;5;124mlab\u001b[39m\u001b[38;5;124m'\u001b[39m, \u001b[38;5;124m'\u001b[39m\u001b[38;5;124mgreen\u001b[39m\u001b[38;5;124m'\u001b[39m)])\n\u001b[1;32m     16\u001b[0m flattenedItem\u001b[38;5;241m.\u001b[39mappend(combinedVotes)\n",
      "Cell \u001b[0;32mIn[66], line 13\u001b[0m, in \u001b[0;36m<listcomp>\u001b[0;34m(.0)\u001b[0m\n\u001b[1;32m     10\u001b[0m \u001b[38;5;66;03m# they are sorted by votes in the original document but it is better to be sure\u001b[39;00m\n\u001b[1;32m     11\u001b[0m winningCandidate \u001b[38;5;241m=\u001b[39m \u001b[38;5;28mmax\u001b[39m(candidates, key\u001b[38;5;241m=\u001b[39m\u001b[38;5;28;01mlambda\u001b[39;00m x: x[\u001b[38;5;124m'\u001b[39m\u001b[38;5;124mvotes\u001b[39m\u001b[38;5;124m'\u001b[39m])  \n\u001b[0;32m---> 13\u001b[0m [flattenedItem\u001b[38;5;241m.\u001b[39mappend(\u001b[43mwinningCandidate\u001b[49m\u001b[43m[\u001b[49m\u001b[43mkey\u001b[49m\u001b[43m]\u001b[49m) \u001b[38;5;28;01mfor\u001b[39;00m key \u001b[38;5;129;01min\u001b[39;00m candidateKeys]\n\u001b[1;32m     15\u001b[0m combinedVotes \u001b[38;5;241m=\u001b[39m \u001b[38;5;28msum\u001b[39m([candidate[\u001b[38;5;124m'\u001b[39m\u001b[38;5;124mvotes\u001b[39m\u001b[38;5;124m'\u001b[39m] \u001b[38;5;28;01mfor\u001b[39;00m candidate \u001b[38;5;129;01min\u001b[39;00m candidates \u001b[38;5;28;01mif\u001b[39;00m candidate[\u001b[38;5;124m'\u001b[39m\u001b[38;5;124mparty\u001b[39m\u001b[38;5;124m'\u001b[39m] \u001b[38;5;129;01min\u001b[39;00m (\u001b[38;5;124m'\u001b[39m\u001b[38;5;124mlab\u001b[39m\u001b[38;5;124m'\u001b[39m, \u001b[38;5;124m'\u001b[39m\u001b[38;5;124mgreen\u001b[39m\u001b[38;5;124m'\u001b[39m)])\n\u001b[1;32m     16\u001b[0m flattenedItem\u001b[38;5;241m.\u001b[39mappend(combinedVotes)\n",
      "\u001b[0;31mKeyError\u001b[0m: 'v'"
     ]
    }
   ],
   "source": [
    "flattenedOriginalData = []\n",
    "\n",
    "for item in data:\n",
    "    flattenedItem = [item[key] for key in constituencyKeys]\n",
    "    candidates = item['candidates'] \n",
    "    \n",
    "    if 'votes' not in candidates[0]: # we don't have voting data yet\n",
    "        continue\n",
    "\n",
    "    # they are sorted by votes in the original document but it is better to be sure\n",
    "    winningCandidate = max(candidates, key=lambda x: x['votes'])  \n",
    "\n",
    "    [flattenedItem.append(winningCandidate[key]) for key in candidateKeys]\n",
    "\n",
    "    combinedVotes = sum([candidate['votes'] for candidate in candidates if candidate['party'] in ('lab', 'green')])\n",
    "    flattenedItem.append(combinedVotes)\n",
    "\n",
    "    if combinedVotes > winningCandidate['votes'] and winningCandidate['party'] != 'lab':\n",
    "        flattenedOriginalData.append(flattenedItem)\n"
   ]
  },
  {
   "cell_type": "code",
   "execution_count": 67,
   "id": "2808a436-c82b-4b28-8e4d-40a1a8d98243",
   "metadata": {},
   "outputs": [
    {
     "ename": "IndexError",
     "evalue": "list index out of range",
     "output_type": "error",
     "traceback": [
      "\u001b[0;31m---------------------------------------------------------------------------\u001b[0m",
      "\u001b[0;31mIndexError\u001b[0m                                Traceback (most recent call last)",
      "Cell \u001b[0;32mIn[67], line 1\u001b[0m\n\u001b[0;32m----> 1\u001b[0m \u001b[38;5;28mprint\u001b[39m(\u001b[43mflattenedOriginalData\u001b[49m\u001b[43m[\u001b[49m\u001b[38;5;241;43m0\u001b[39;49m\u001b[43m]\u001b[49m)\n",
      "\u001b[0;31mIndexError\u001b[0m: list index out of range"
     ]
    }
   ],
   "source": [
    "print(flattenedOriginalData[0])"
   ]
  },
  {
   "cell_type": "code",
   "execution_count": 52,
   "id": "fc80d55c-fe8a-4876-8f85-68db3de88fc6",
   "metadata": {},
   "outputs": [
    {
     "data": {
      "text/html": [
       "<table>\n",
       "<thead>\n",
       "<tr><th>name                             </th><th>sittingParty  </th><th>party  </th><th style=\"text-align: right;\">  votes</th><th style=\"text-align: right;\">  lab+green votes</th></tr>\n",
       "</thead>\n",
       "<tbody>\n",
       "<tr><td>Basildon and Billericay          </td><td>con           </td><td>con    </td><td style=\"text-align: right;\">  12905</td><td style=\"text-align: right;\">            15008</td></tr>\n",
       "<tr><td>Mid Bedfordshire                 </td><td>con           </td><td>con    </td><td style=\"text-align: right;\">  16912</td><td style=\"text-align: right;\">            18175</td></tr>\n",
       "<tr><td>Beverley and Holderness          </td><td>con           </td><td>con    </td><td style=\"text-align: right;\">  15501</td><td style=\"text-align: right;\">            17024</td></tr>\n",
       "<tr><td>Bexhill and Battle               </td><td>con           </td><td>con    </td><td style=\"text-align: right;\">  16186</td><td style=\"text-align: right;\">            16501</td></tr>\n",
       "<tr><td>Birmingham Perry Barr            </td><td>lab           </td><td>ind    </td><td style=\"text-align: right;\">  13303</td><td style=\"text-align: right;\">            15236</td></tr>\n",
       "<tr><td>Blackburn                        </td><td>lab           </td><td>ind    </td><td style=\"text-align: right;\">  10518</td><td style=\"text-align: right;\">            11802</td></tr>\n",
       "<tr><td>Bognor Regis and Littlehampton   </td><td>con           </td><td>con    </td><td style=\"text-align: right;\">  15678</td><td style=\"text-align: right;\">            16098</td></tr>\n",
       "<tr><td>Bridgwater                       </td><td>con           </td><td>con    </td><td style=\"text-align: right;\">  12281</td><td style=\"text-align: right;\">            12652</td></tr>\n",
       "<tr><td>Brighton Pavilion                </td><td>green         </td><td>green  </td><td style=\"text-align: right;\">  28809</td><td style=\"text-align: right;\">            43328</td></tr>\n",
       "<tr><td>Bristol Central                  </td><td>lab           </td><td>green  </td><td style=\"text-align: right;\">  24539</td><td style=\"text-align: right;\">            38671</td></tr>\n",
       "<tr><td>Broadland and Fakenham           </td><td>con           </td><td>con    </td><td style=\"text-align: right;\">  16322</td><td style=\"text-align: right;\">            18806</td></tr>\n",
       "<tr><td>Bromley and Biggin Hill          </td><td>con           </td><td>con    </td><td style=\"text-align: right;\">  15929</td><td style=\"text-align: right;\">            18210</td></tr>\n",
       "<tr><td>Croydon South                    </td><td>con           </td><td>con    </td><td style=\"text-align: right;\">  19757</td><td style=\"text-align: right;\">            20303</td></tr>\n",
       "<tr><td>Central Devon                    </td><td>con           </td><td>con    </td><td style=\"text-align: right;\">  16831</td><td style=\"text-align: right;\">            20108</td></tr>\n",
       "<tr><td>South West Devon                 </td><td>con           </td><td>con    </td><td style=\"text-align: right;\">  17916</td><td style=\"text-align: right;\">            18729</td></tr>\n",
       "<tr><td>North West Essex                 </td><td>con           </td><td>con    </td><td style=\"text-align: right;\">  19360</td><td style=\"text-align: right;\">            19596</td></tr>\n",
       "<tr><td>Exmouth and Exeter East          </td><td>con           </td><td>con    </td><td style=\"text-align: right;\">  14728</td><td style=\"text-align: right;\">            16938</td></tr>\n",
       "<tr><td>Faversham and Mid Kent           </td><td>con           </td><td>con    </td><td style=\"text-align: right;\">  14816</td><td style=\"text-align: right;\">            17565</td></tr>\n",
       "<tr><td>Fylde                            </td><td>con           </td><td>con    </td><td style=\"text-align: right;\">  15917</td><td style=\"text-align: right;\">            16916</td></tr>\n",
       "<tr><td>Great Yarmouth                   </td><td>con           </td><td>reform </td><td style=\"text-align: right;\">  14385</td><td style=\"text-align: right;\">            14695</td></tr>\n",
       "<tr><td>Harborough, Oadby and Wigston    </td><td>con           </td><td>con    </td><td style=\"text-align: right;\">  18614</td><td style=\"text-align: right;\">            20505</td></tr>\n",
       "<tr><td>Harwich and North Essex          </td><td>con           </td><td>con    </td><td style=\"text-align: right;\">  16522</td><td style=\"text-align: right;\">            18154</td></tr>\n",
       "<tr><td>Havant                           </td><td>con           </td><td>con    </td><td style=\"text-align: right;\">  12986</td><td style=\"text-align: right;\">            15755</td></tr>\n",
       "<tr><td>Hereford and South Herefordshire </td><td>con           </td><td>con    </td><td style=\"text-align: right;\">  14871</td><td style=\"text-align: right;\">            16767</td></tr>\n",
       "<tr><td>North Herefordshire              </td><td>con           </td><td>green  </td><td style=\"text-align: right;\">  21736</td><td style=\"text-align: right;\">            24941</td></tr>\n",
       "<tr><td>Herne Bay and Sandwich           </td><td>con           </td><td>con    </td><td style=\"text-align: right;\">  17243</td><td style=\"text-align: right;\">            18273</td></tr>\n",
       "<tr><td>Hornchurch and Upminster         </td><td>con           </td><td>con    </td><td style=\"text-align: right;\">  15260</td><td style=\"text-align: right;\">            15559</td></tr>\n",
       "<tr><td>Huntingdon                       </td><td>con           </td><td>con    </td><td style=\"text-align: right;\">  18257</td><td style=\"text-align: right;\">            19800</td></tr>\n",
       "<tr><td>Isle of Wight East               </td><td>con           </td><td>con    </td><td style=\"text-align: right;\">  10427</td><td style=\"text-align: right;\">            12577</td></tr>\n",
       "<tr><td>Keighley and Ilkley              </td><td>con           </td><td>con    </td><td style=\"text-align: right;\">  18589</td><td style=\"text-align: right;\">            19411</td></tr>\n",
       "<tr><td>Leicester South                  </td><td>lab           </td><td>ind    </td><td style=\"text-align: right;\">  14739</td><td style=\"text-align: right;\">            17586</td></tr>\n",
       "<tr><td>Mid Leicestershire               </td><td>con           </td><td>con    </td><td style=\"text-align: right;\">  17735</td><td style=\"text-align: right;\">            18948</td></tr>\n",
       "<tr><td>Maidstone and Malling            </td><td>con           </td><td>con    </td><td style=\"text-align: right;\">  14146</td><td style=\"text-align: right;\">            16199</td></tr>\n",
       "<tr><td>Reigate                          </td><td>con           </td><td>con    </td><td style=\"text-align: right;\">  18822</td><td style=\"text-align: right;\">            20326</td></tr>\n",
       "<tr><td>Romford                          </td><td>con           </td><td>con    </td><td style=\"text-align: right;\">  15339</td><td style=\"text-align: right;\">            16096</td></tr>\n",
       "<tr><td>Skipton and Ripon                </td><td>con           </td><td>con    </td><td style=\"text-align: right;\">  18833</td><td style=\"text-align: right;\">            20629</td></tr>\n",
       "<tr><td>Spelthorne                       </td><td>con           </td><td>con    </td><td style=\"text-align: right;\">  14038</td><td style=\"text-align: right;\">            14861</td></tr>\n",
       "<tr><td>Staffordshire Moorlands          </td><td>con           </td><td>con    </td><td style=\"text-align: right;\">  15310</td><td style=\"text-align: right;\">            16428</td></tr>\n",
       "<tr><td>Central Suffolk and North Ipswich</td><td>con           </td><td>con    </td><td style=\"text-align: right;\">  15144</td><td style=\"text-align: right;\">            16506</td></tr>\n",
       "<tr><td>South Suffolk                    </td><td>con           </td><td>con    </td><td style=\"text-align: right;\">  16082</td><td style=\"text-align: right;\">            17043</td></tr>\n",
       "<tr><td>Tatton                           </td><td>con           </td><td>con    </td><td style=\"text-align: right;\">  19956</td><td style=\"text-align: right;\">            21391</td></tr>\n",
       "<tr><td>Waveney Valley                   </td><td>con           </td><td>green  </td><td style=\"text-align: right;\">  20467</td><td style=\"text-align: right;\">            25088</td></tr>\n",
       "<tr><td>The Wrekin                       </td><td>con           </td><td>con    </td><td style=\"text-align: right;\">  16320</td><td style=\"text-align: right;\">            18465</td></tr>\n",
       "<tr><td>Wyre Forest                      </td><td>con           </td><td>con    </td><td style=\"text-align: right;\">  14489</td><td style=\"text-align: right;\">            16120</td></tr>\n",
       "</tbody>\n",
       "</table>"
      ],
      "text/plain": [
       "'<table>\\n<thead>\\n<tr><th>name                             </th><th>sittingParty  </th><th>party  </th><th style=\"text-align: right;\">  votes</th><th style=\"text-align: right;\">  lab+green votes</th></tr>\\n</thead>\\n<tbody>\\n<tr><td>Basildon and Billericay          </td><td>con           </td><td>con    </td><td style=\"text-align: right;\">  12905</td><td style=\"text-align: right;\">            15008</td></tr>\\n<tr><td>Mid Bedfordshire                 </td><td>con           </td><td>con    </td><td style=\"text-align: right;\">  16912</td><td style=\"text-align: right;\">            18175</td></tr>\\n<tr><td>Beverley and Holderness          </td><td>con           </td><td>con    </td><td style=\"text-align: right;\">  15501</td><td style=\"text-align: right;\">            17024</td></tr>\\n<tr><td>Bexhill and Battle               </td><td>con           </td><td>con    </td><td style=\"text-align: right;\">  16186</td><td style=\"text-align: right;\">            16501</td></tr>\\n<tr><td>Birmingham Perry Barr            </td><td>lab           </td><td>ind    </td><td style=\"text-align: right;\">  13303</td><td style=\"text-align: right;\">            15236</td></tr>\\n<tr><td>Blackburn                        </td><td>lab           </td><td>ind    </td><td style=\"text-align: right;\">  10518</td><td style=\"text-align: right;\">            11802</td></tr>\\n<tr><td>Bognor Regis and Littlehampton   </td><td>con           </td><td>con    </td><td style=\"text-align: right;\">  15678</td><td style=\"text-align: right;\">            16098</td></tr>\\n<tr><td>Bridgwater                       </td><td>con           </td><td>con    </td><td style=\"text-align: right;\">  12281</td><td style=\"text-align: right;\">            12652</td></tr>\\n<tr><td>Brighton Pavilion                </td><td>green         </td><td>green  </td><td style=\"text-align: right;\">  28809</td><td style=\"text-align: right;\">            43328</td></tr>\\n<tr><td>Bristol Central                  </td><td>lab           </td><td>green  </td><td style=\"text-align: right;\">  24539</td><td style=\"text-align: right;\">            38671</td></tr>\\n<tr><td>Broadland and Fakenham           </td><td>con           </td><td>con    </td><td style=\"text-align: right;\">  16322</td><td style=\"text-align: right;\">            18806</td></tr>\\n<tr><td>Bromley and Biggin Hill          </td><td>con           </td><td>con    </td><td style=\"text-align: right;\">  15929</td><td style=\"text-align: right;\">            18210</td></tr>\\n<tr><td>Croydon South                    </td><td>con           </td><td>con    </td><td style=\"text-align: right;\">  19757</td><td style=\"text-align: right;\">            20303</td></tr>\\n<tr><td>Central Devon                    </td><td>con           </td><td>con    </td><td style=\"text-align: right;\">  16831</td><td style=\"text-align: right;\">            20108</td></tr>\\n<tr><td>South West Devon                 </td><td>con           </td><td>con    </td><td style=\"text-align: right;\">  17916</td><td style=\"text-align: right;\">            18729</td></tr>\\n<tr><td>North West Essex                 </td><td>con           </td><td>con    </td><td style=\"text-align: right;\">  19360</td><td style=\"text-align: right;\">            19596</td></tr>\\n<tr><td>Exmouth and Exeter East          </td><td>con           </td><td>con    </td><td style=\"text-align: right;\">  14728</td><td style=\"text-align: right;\">            16938</td></tr>\\n<tr><td>Faversham and Mid Kent           </td><td>con           </td><td>con    </td><td style=\"text-align: right;\">  14816</td><td style=\"text-align: right;\">            17565</td></tr>\\n<tr><td>Fylde                            </td><td>con           </td><td>con    </td><td style=\"text-align: right;\">  15917</td><td style=\"text-align: right;\">            16916</td></tr>\\n<tr><td>Great Yarmouth                   </td><td>con           </td><td>reform </td><td style=\"text-align: right;\">  14385</td><td style=\"text-align: right;\">            14695</td></tr>\\n<tr><td>Harborough, Oadby and Wigston    </td><td>con           </td><td>con    </td><td style=\"text-align: right;\">  18614</td><td style=\"text-align: right;\">            20505</td></tr>\\n<tr><td>Harwich and North Essex          </td><td>con           </td><td>con    </td><td style=\"text-align: right;\">  16522</td><td style=\"text-align: right;\">            18154</td></tr>\\n<tr><td>Havant                           </td><td>con           </td><td>con    </td><td style=\"text-align: right;\">  12986</td><td style=\"text-align: right;\">            15755</td></tr>\\n<tr><td>Hereford and South Herefordshire </td><td>con           </td><td>con    </td><td style=\"text-align: right;\">  14871</td><td style=\"text-align: right;\">            16767</td></tr>\\n<tr><td>North Herefordshire              </td><td>con           </td><td>green  </td><td style=\"text-align: right;\">  21736</td><td style=\"text-align: right;\">            24941</td></tr>\\n<tr><td>Herne Bay and Sandwich           </td><td>con           </td><td>con    </td><td style=\"text-align: right;\">  17243</td><td style=\"text-align: right;\">            18273</td></tr>\\n<tr><td>Hornchurch and Upminster         </td><td>con           </td><td>con    </td><td style=\"text-align: right;\">  15260</td><td style=\"text-align: right;\">            15559</td></tr>\\n<tr><td>Huntingdon                       </td><td>con           </td><td>con    </td><td style=\"text-align: right;\">  18257</td><td style=\"text-align: right;\">            19800</td></tr>\\n<tr><td>Isle of Wight East               </td><td>con           </td><td>con    </td><td style=\"text-align: right;\">  10427</td><td style=\"text-align: right;\">            12577</td></tr>\\n<tr><td>Keighley and Ilkley              </td><td>con           </td><td>con    </td><td style=\"text-align: right;\">  18589</td><td style=\"text-align: right;\">            19411</td></tr>\\n<tr><td>Leicester South                  </td><td>lab           </td><td>ind    </td><td style=\"text-align: right;\">  14739</td><td style=\"text-align: right;\">            17586</td></tr>\\n<tr><td>Mid Leicestershire               </td><td>con           </td><td>con    </td><td style=\"text-align: right;\">  17735</td><td style=\"text-align: right;\">            18948</td></tr>\\n<tr><td>Maidstone and Malling            </td><td>con           </td><td>con    </td><td style=\"text-align: right;\">  14146</td><td style=\"text-align: right;\">            16199</td></tr>\\n<tr><td>Reigate                          </td><td>con           </td><td>con    </td><td style=\"text-align: right;\">  18822</td><td style=\"text-align: right;\">            20326</td></tr>\\n<tr><td>Romford                          </td><td>con           </td><td>con    </td><td style=\"text-align: right;\">  15339</td><td style=\"text-align: right;\">            16096</td></tr>\\n<tr><td>Skipton and Ripon                </td><td>con           </td><td>con    </td><td style=\"text-align: right;\">  18833</td><td style=\"text-align: right;\">            20629</td></tr>\\n<tr><td>Spelthorne                       </td><td>con           </td><td>con    </td><td style=\"text-align: right;\">  14038</td><td style=\"text-align: right;\">            14861</td></tr>\\n<tr><td>Staffordshire Moorlands          </td><td>con           </td><td>con    </td><td style=\"text-align: right;\">  15310</td><td style=\"text-align: right;\">            16428</td></tr>\\n<tr><td>Central Suffolk and North Ipswich</td><td>con           </td><td>con    </td><td style=\"text-align: right;\">  15144</td><td style=\"text-align: right;\">            16506</td></tr>\\n<tr><td>South Suffolk                    </td><td>con           </td><td>con    </td><td style=\"text-align: right;\">  16082</td><td style=\"text-align: right;\">            17043</td></tr>\\n<tr><td>Tatton                           </td><td>con           </td><td>con    </td><td style=\"text-align: right;\">  19956</td><td style=\"text-align: right;\">            21391</td></tr>\\n<tr><td>Waveney Valley                   </td><td>con           </td><td>green  </td><td style=\"text-align: right;\">  20467</td><td style=\"text-align: right;\">            25088</td></tr>\\n<tr><td>The Wrekin                       </td><td>con           </td><td>con    </td><td style=\"text-align: right;\">  16320</td><td style=\"text-align: right;\">            18465</td></tr>\\n<tr><td>Wyre Forest                      </td><td>con           </td><td>con    </td><td style=\"text-align: right;\">  14489</td><td style=\"text-align: right;\">            16120</td></tr>\\n</tbody>\\n</table>'"
      ]
     },
     "execution_count": 52,
     "metadata": {},
     "output_type": "execute_result"
    }
   ],
   "source": [
    "import tabulate\n",
    "\n",
    "headers = [header for header in constituencyKeys + candidateKeys + ('lab+green votes',)]\n",
    "table = tabulate.tabulate(flattenedOriginalData, headers=headers, tablefmt='html')\n",
    "table"
   ]
  },
  {
   "cell_type": "code",
   "execution_count": 54,
   "id": "d0ee23b9-3695-490a-9fd4-5b0b8647610f",
   "metadata": {},
   "outputs": [
    {
     "name": "stdout",
     "output_type": "stream",
     "text": [
      "flipped constituencies: 44 out of 650\n"
     ]
    }
   ],
   "source": [
    "print('flipped constituencies:', len(flattenedOriginalData), 'out of', len(data))"
   ]
  },
  {
   "cell_type": "code",
   "execution_count": null,
   "id": "d86797f0-1d23-43ca-8424-d1b562a13327",
   "metadata": {},
   "outputs": [],
   "source": []
  }
 ],
 "metadata": {
  "kernelspec": {
   "display_name": "Python 3 (ipykernel)",
   "language": "python",
   "name": "python3"
  },
  "language_info": {
   "codemirror_mode": {
    "name": "ipython",
    "version": 3
   },
   "file_extension": ".py",
   "mimetype": "text/x-python",
   "name": "python",
   "nbconvert_exporter": "python",
   "pygments_lexer": "ipython3",
   "version": "3.10.12"
  }
 },
 "nbformat": 4,
 "nbformat_minor": 5
}
